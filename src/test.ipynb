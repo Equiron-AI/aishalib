{
 "cells": [
  {
   "cell_type": "code",
   "execution_count": null,
   "id": "3b5e5dc1-375c-4533-95e1-c695f51cf013",
   "metadata": {},
   "outputs": [],
   "source": [
    "import json\n",
    "from transformers import AutoTokenizer\n",
    "\n",
    "tokenizer = AutoTokenizer.from_pretrained(\"Qwen/Qwen2-7B-Instruct\")\n",
    "\n",
    "with open('test.context') as f:\n",
    "    parts = json.load(f)\n",
    "\n",
    "print(len(sum(parts, [])))\n",
    "\n",
    "for part in parts:\n",
    "    print(\"\\n\\n\")\n",
    "    print(tokenizer.decode(part))"
   ]
  },
  {
   "cell_type": "code",
   "execution_count": null,
   "id": "a1404e2c-d7a1-4cbf-84a8-8dea5bd7e406",
   "metadata": {
    "execution": {
     "iopub.execute_input": "2024-06-20T14:10:01.995817Z",
     "iopub.status.busy": "2024-06-20T14:10:01.995499Z"
    }
   },
   "outputs": [
    {
     "name": "stderr",
     "output_type": "stream",
     "text": [
      "/home/man4j/.conda/envs/chainlit/lib/python3.11/site-packages/tqdm/auto.py:21: TqdmWarning: IProgress not found. Please update jupyter and ipywidgets. See https://ipywidgets.readthedocs.io/en/stable/user_install.html\n",
      "  from .autonotebook import tqdm as notebook_tqdm\n",
      "Special tokens have been added in the vocabulary, make sure the associated word embeddings are fine-tuned or trained.\n",
      "/home/man4j/.conda/envs/chainlit/lib/python3.11/site-packages/huggingface_hub/file_download.py:1132: FutureWarning: `resume_download` is deprecated and will be removed in version 1.0.0. Downloads always resume when possible. If you want to force a new download, use `force_download=True`.\n",
      "  warnings.warn(\n",
      "INFO:aishalib.aishalib:System prompt size: 18\n"
     ]
    }
   ],
   "source": [
    "import logging\n",
    "import json\n",
    "from aishalib.aishalib import Aisha\n",
    "from aishalib.llmbackend import LlamaCppBackend\n",
    "from aishalib.llmbackend import TogetherAiBackend\n",
    "\n",
    "\n",
    "logging.basicConfig(level=logging.INFO)\n",
    "MODEL_ID = \"Qwen/Qwen2-72B-Instruct\"\n",
    "COMPLETION_URL = \"http://127.0.0.1:8088/completion\"\n",
    "\n",
    "\n",
    "async def my_callback(content):\n",
    "    print(content, end=\"\")\n",
    "\n",
    "# backend = LlamaCppBackend(COMPLETION_URL, max_predict=1024)\n",
    "backend = TogetherAiBackend(\"5f72b0aca0c16e75ab174c08ab739ca3c337ce8ab46f4d7450ee8bfe43994585\", max_predict=1024)\n",
    "aisha = Aisha(backend, MODEL_ID, prompt=\"Ты отвечаешь на русском языке\", max_context=32768)\n",
    "aisha.add_user_request(\"Привет!\")\n",
    "await aisha.stream_completion(my_callback, temp=0.0, top_p=0.0)\n",
    "\n",
    "#response = aisha.completion(temp=0.0, top_p=0.0)\n",
    "#print(response)\n",
    "aisha.save_context(\"test\")\n"
   ]
  },
  {
   "cell_type": "code",
   "execution_count": null,
   "id": "fd39265d-ac2d-4914-91bc-a1ddd34be188",
   "metadata": {},
   "outputs": [],
   "source": []
  }
 ],
 "metadata": {
  "kernelspec": {
   "display_name": "chainlit",
   "language": "python",
   "name": "chainlit"
  },
  "language_info": {
   "codemirror_mode": {
    "name": "ipython",
    "version": 3
   },
   "file_extension": ".py",
   "mimetype": "text/x-python",
   "name": "python",
   "nbconvert_exporter": "python",
   "pygments_lexer": "ipython3",
   "version": "3.11.9"
  }
 },
 "nbformat": 4,
 "nbformat_minor": 5
}
