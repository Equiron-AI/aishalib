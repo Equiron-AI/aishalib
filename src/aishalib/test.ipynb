{
 "cells": [
  {
   "cell_type": "code",
   "execution_count": null,
   "id": "3b5e5dc1-375c-4533-95e1-c695f51cf013",
   "metadata": {},
   "outputs": [],
   "source": [
    "import json\n",
    "from transformers import AutoTokenizer\n",
    "\n",
    "tokenizer = AutoTokenizer.from_pretrained(\"Qwen/Qwen2-7B-Instruct\")\n",
    "\n",
    "with open('test.context') as f:\n",
    "    parts = json.load(f)\n",
    "\n",
    "print(len(sum(parts, [])))\n",
    "\n",
    "for part in parts:\n",
    "    print(\"\\n\\n\")\n",
    "    print(tokenizer.decode(part))"
   ]
  },
  {
   "cell_type": "code",
   "execution_count": 2,
   "id": "a1404e2c-d7a1-4cbf-84a8-8dea5bd7e406",
   "metadata": {
    "execution": {
     "iopub.execute_input": "2024-06-17T10:12:31.473361Z",
     "iopub.status.busy": "2024-06-17T10:12:31.472499Z",
     "iopub.status.idle": "2024-06-17T10:12:45.538655Z",
     "shell.execute_reply": "2024-06-17T10:12:45.537982Z",
     "shell.execute_reply.started": "2024-06-17T10:12:31.473318Z"
    }
   },
   "outputs": [
    {
     "name": "stderr",
     "output_type": "stream",
     "text": [
      "Special tokens have been added in the vocabulary, make sure the associated word embeddings are fine-tuned or trained.\n",
      "/home/man4j/.conda/envs/chainlit/lib/python3.11/site-packages/huggingface_hub/file_download.py:1132: FutureWarning: `resume_download` is deprecated and will be removed in version 1.0.0. Downloads always resume when possible. If you want to force a new download, use `force_download=True`.\n",
      "  warnings.warn(\n",
      "INFO:aishalib:System prompt size: 22623\n"
     ]
    },
    {
     "name": "stdout",
     "output_type": "stream",
     "text": [
      "Документы, которые можно использовать для ответа на вопрос 'Когда нужно использовать короткий код маркировки?', включают следующие фрагменты:\n",
      "\n",
      "1. \"В ППР (Постановлении Правительства РФ) по многим товарным группам, УОТ (участнику оборота товаров) предоставляется на выбор два типа кодов маркировки: «длинный», с четырьмя группами данных и «короткий», с тремя группами.\"\n",
      "\n",
      "2. \"Упаковка маркируемой продукции бывает разных размеров, и «короткий» код маркировки предназначен исключительно для тех форм-факторов упаковки, на которых УОТ не имеет возможности разместить СИ, содержащее «длинный» код маркировки.\"\n",
      "\n",
      "3. \"В ППР определен размер элемента знака DM от .255 до .680 что дает нам минимальный размер знака в 8.5 х 8.5 миллиметра для «длинного» кода маркировки и 5.9 на 5.9 миллиметра для «короткого».\"\n",
      "\n",
      "4. \"Необходимо отметить, что размер элемента знака .255 требует очень высокого качества печати, как правило – это либо лазер, либо типографская печать с высоким разрешением. В большинстве случаев применяется размер 0.40.\"\n",
      "\n",
      "5. \"Требования к качеству печати в ППР четко определены. Для оценки качества печати Data Matrix в РФ действуют два ГОСТа: ГОСТ Р ИСО/МЭК 15415 и ГОСР Р ИСО/МЭК 29158-2022.\"\n",
      "\n",
      "6. \"В случае отсутствия у УОТ возможности нанесения средства идентификации, содержащего код маркировки с четырьмя группами данных в соответствии с требованиями национального стандарта Российской Федерации ГОСТ Р ИСО/МЭК 16022-2008, раздела 5.5.1, в связи с размерами потребительской упаковки, не позволяющими разместить символ Data Matrix требуемого национальным стандартом размера и качества, допускается применение кода маркировки с тремя группами данных.\"\n",
      "\n",
      "Эти фрагменты документа подробно описывают условия и обстоятельства, при которых следует использовать короткий код маркировки.\n"
     ]
    }
   ],
   "source": [
    "import logging\n",
    "import json\n",
    "from aishalib import Aisha\n",
    "\n",
    "logging.basicConfig(level=logging.INFO)\n",
    "\n",
    "MODEL_ID = \"Qwen/Qwen2-7B-Instruct\"\n",
    "COMPLETION_URL = \"http://127.0.0.1:8088/completion\"\n",
    "\n",
    "with open(\"marking.txt\") as f:\n",
    "    docs = f.read()\n",
    "\n",
    "system_prompt = f\"\"\"## Ты - умный ассистент, использующий только свой контекст для ответов на вопросы.\n",
    "В твоем контексте ниже находятся документы, которые необходимо использовать при ответе на вопросы.\n",
    "\n",
    "## Документы:\n",
    "{docs}\n",
    "\"\"\"\n",
    "\n",
    "q1 = \"Тщательно выбери и процитируй все фрагменты документов, которые ты будешь использовать для ответа на вопрос: 'Когда нужно использовать короткий код маркировки?'\"\n",
    "\n",
    "\n",
    "async def my_callback(content):\n",
    "    print(content, end=\"\")\n",
    "\n",
    "\n",
    "aisha = Aisha(COMPLETION_URL, MODEL_ID, prompt=system_prompt, max_context=32768, max_predict=2048)\n",
    "aisha.add_user_request(q1)\n",
    "#await aisha.stream_completion(my_callback, temp=0.0, top_p=0.0)\n",
    "response = await aisha.completion(temp=0.0, top_p=0.0)\n",
    "print(response)\n",
    "aisha.save_context(\"test\")\n"
   ]
  }
 ],
 "metadata": {
  "kernelspec": {
   "display_name": "chainlit",
   "language": "python",
   "name": "chainlit"
  },
  "language_info": {
   "codemirror_mode": {
    "name": "ipython",
    "version": 3
   },
   "file_extension": ".py",
   "mimetype": "text/x-python",
   "name": "python",
   "nbconvert_exporter": "python",
   "pygments_lexer": "ipython3",
   "version": "3.11.9"
  }
 },
 "nbformat": 4,
 "nbformat_minor": 5
}
